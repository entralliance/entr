{
 "cells": [
  {
   "cell_type": "markdown",
   "metadata": {},
   "source": [
    "## Use ENGIE’s open data set\n",
    "\n",
    "ENGIE provides access to the data of its 'La Haute Borne' wind farm through https://opendata-renewables.engie.com and through an API. The data can be used to create additional turbine objects and gives users the opportunity to work with further real-world data. \n",
    "\n",
    "The series of notebooks in the 'examples' folder uses SCADA data downloaded from https://opendata-renewables.engie.com, saved in the 'examples/data' folder. Additional plant level meter, availability, and curtailment data were synthesized based on the SCADA data.\n",
    "\n",
    "In the following example, data is loaded into a turbine object and plotted as a power curve. The selected turbine can be changed if desired."
   ]
  },
  {
   "cell_type": "markdown",
   "metadata": {},
   "source": [
    "### Connect to the ENTR Warehouse"
   ]
  },
  {
   "cell_type": "code",
   "execution_count": 9,
   "metadata": {
    "jupyter": {
     "outputs_hidden": false
    },
    "pycharm": {
     "name": "#%%\n"
    }
   },
   "outputs": [],
   "source": [
    "import matplotlib.pyplot as plt\n",
    "import numpy as np\n",
    "import random\n",
    "import pandas as pd\n",
    "import time\n",
    "\n",
    "from operational_analysis.types import PlantData\n",
    "from operational_analysis.toolkits import filters\n",
    "from operational_analysis.toolkits import power_curve\n"
   ]
  },
  {
   "cell_type": "code",
   "execution_count": null,
   "metadata": {},
   "outputs": [],
   "source": [
    "\n",
    "### DATAFRAMES\n",
    "\n",
    "plant = PlantData.from_entr(wind_plant=\"la_haute_borne_scada_for_openoa\")\n",
    "\n",
    "### METADATA\n",
    "\n",
    "# Set time frequencies of data in minutes\n",
    "plant._meter_freq = '10T'  # Daily meter data\n",
    "plant._curtail_freq = '10T'  # Daily curtailment data\n",
    "plant._scada_freq = '10T' # 10-min\n",
    "\n",
    "# Load meta data\n",
    "plant._lat_lon = (48.452, 5.588)\n",
    "plant._plant_capacity = 8.2 # MW\n",
    "plant._num_turbines = 4\n",
    "plant._turbine_capacity = 2.05 # MW\n",
    "\n",
    "\n",
    "### PRE-PROCESSING\n",
    "\n",
    "plant._scada.df['time'] = pd.to_datetime(plant._scada.df['Date_time'],utc=True).dt.tz_localize(None)\n",
    "\n",
    "# Remove duplicated timestamps and turbine id\n",
    "plant._scada.df = plant._scada.df.drop_duplicates(subset=['time','Wind_turbine_name'],keep='first')\n",
    "\n",
    "# Set time as index\n",
    "plant._scada.df.set_index('time',inplace=True,drop=False)\n",
    "\n",
    "plant._scada.df = plant._scada.df[(plant._scada.df[\"Ot_avg\"]>=-15.0) & (plant._scada.df[\"Ot_avg\"]<=45.0)]\n",
    "\n",
    "plant._scada.df[\"Power_W\"] = plant._scada.df[\"P_avg\"] * 1000\n",
    "\n",
    "# Convert pitch to range -180 to 180.\n",
    "plant._scada.df[\"Ba_avg\"] = plant._scada.df[\"Ba_avg\"] % 360\n",
    "plant._scada.df.loc[plant._scada.df[\"Ba_avg\"] > 180.0,\"Ba_avg\"] \\\n",
    "    = plant._scada.df.loc[plant._scada.df[\"Ba_avg\"] > 180.0,\"Ba_avg\"] - 360.0\n",
    "\n",
    "# Calculate energy\n",
    "plant._scada.df['energy_kwh'] = un.convert_power_to_energy(plant._scada.df[\"Power_W\"], plant._scada_freq) / 1000\n",
    "\n",
    "# Note: there is no vane direction variable defined in -25, so\n",
    "# making one up\n",
    "scada_map = {\n",
    "            \"time\"                 : \"time\",\n",
    "            \"Wind_turbine_name\"    : \"id\",\n",
    "            \"Power_W\"              : \"wtur_W_avg\",\n",
    "\n",
    "            \"Ws_avg\"               : \"wmet_wdspd_avg\",\n",
    "            \"Wa_avg\"               : \"wmet_HorWdDir_avg\",\n",
    "            \"Va_avg\"               : \"wmet_VaneDir_avg\",\n",
    "            \"Ya_avg\"               : \"wyaw_YwAng_avg\",\n",
    "            \"Ot_avg\"               : \"wmet_EnvTmp_avg\",\n",
    "            \"Ba_avg\"               : \"wrot_BlPthAngVal1_avg\",\n",
    "            }\n",
    "\n",
    "plant._scada.df.rename(scada_map, axis=\"columns\", inplace=True)\n",
    "\n",
    "# Remove the fields we are not yet interested in\n",
    "plant._scada.df.drop(['Date_time', 'time', 'P_avg'], axis=1, inplace=True)\n",
    "\n"
   ]
  },
  {
   "cell_type": "code",
   "execution_count": 17,
   "metadata": {},
   "outputs": [
    {
     "data": {
      "text/plain": [
       "array(['R80711', 'R80721', 'R80736', 'R80790'], dtype=object)"
      ]
     },
     "execution_count": 17,
     "metadata": {},
     "output_type": "execute_result"
    }
   ],
   "source": [
    "# List of turbines\n",
    "turb_list = project.scada.df.id.unique()\n",
    "turb_list"
   ]
  },
  {
   "cell_type": "markdown",
   "metadata": {},
   "source": [
    "Let's examine the first turbine from the list above."
   ]
  },
  {
   "cell_type": "code",
   "execution_count": 18,
   "metadata": {},
   "outputs": [],
   "source": [
    "df = project.scada.df.loc[project.scada.df['id'] == turb_list[0]]\n",
    "windspeed = df[\"wmet_wdspd_avg\"]\n",
    "power_kw = df[\"wtur_W_avg\"]/1000 # Put into kW\n"
   ]
  },
  {
   "cell_type": "code",
   "execution_count": 19,
   "metadata": {},
   "outputs": [],
   "source": [
    "def plot_flagged_pc(ws, p, flag_bool, alpha):\n",
    "    plt.scatter(ws, p, s = 1, alpha = alpha)\n",
    "    plt.scatter(ws[flag_bool], p[flag_bool], s = 1, c = 'red')\n",
    "    plt.xlabel('Wind speed (m/s)')\n",
    "    plt.ylabel('Power (W)')\n",
    "    plt.show()"
   ]
  },
  {
   "cell_type": "markdown",
   "metadata": {},
   "source": [
    "First, we'll make a scatter plot the raw power curve data."
   ]
  },
  {
   "cell_type": "code",
   "execution_count": 20,
   "metadata": {},
   "outputs": [
    {
     "data": {
      "image/png": "[encoded data removed]",
      "text/plain": [
       "<Figure size 432x288 with 1 Axes>"
      ]
     },
     "metadata": {
      "needs_background": "light"
     },
     "output_type": "display_data"
    }
   ],
   "source": [
    "plot_flagged_pc(windspeed, power_kw, np.repeat(True, df.shape[0]), 1)"
   ]
  },
  {
   "cell_type": "markdown",
   "metadata": {},
   "source": [
    "### Range filter"
   ]
  },
  {
   "cell_type": "code",
   "execution_count": 21,
   "metadata": {},
   "outputs": [
    {
     "data": {
      "text/plain": [
       "Series([], Name: wmet_wdspd_avg, dtype: object)"
      ]
     },
     "execution_count": 21,
     "metadata": {},
     "output_type": "execute_result"
    }
   ],
   "source": [
    "out_of_range = filters.range_flag(windspeed, below=0, above=70)\n",
    "windspeed[out_of_range].head()"
   ]
  },
  {
   "cell_type": "markdown",
   "metadata": {},
   "source": [
    "No wind speeds out of range\n",
    "\n",
    "### Window range filter\n",
    "\n",
    "Now, we'll apply a window range filter to remove data with power values outside of the window from 20 to 2100 kW for wind speeds between 5 and 40 m/s."
   ]
  },
  {
   "cell_type": "code",
   "execution_count": 22,
   "metadata": {},
   "outputs": [
    {
     "data": {
      "image/png": "[encoded data removed]",
      "text/plain": [
       "<Figure size 432x288 with 1 Axes>"
      ]
     },
     "metadata": {
      "needs_background": "light"
     },
     "output_type": "display_data"
    }
   ],
   "source": [
    "out_of_window = filters.window_range_flag(windspeed, 5., 40, power_kw, 20., 2100.)\n",
    "plot_flagged_pc(windspeed, power_kw, out_of_window, 0.2)"
   ]
  },
  {
   "cell_type": "markdown",
   "metadata": {},
   "source": [
    "Let's remove these flagged data from consideration"
   ]
  },
  {
   "cell_type": "code",
   "execution_count": 23,
   "metadata": {},
   "outputs": [],
   "source": [
    "windspeed_filt1 = windspeed[~out_of_window]\n",
    "power_kw_filt1 = power_kw[~out_of_window]"
   ]
  },
  {
   "cell_type": "markdown",
   "metadata": {},
   "source": [
    "### Bin filter\n",
    "\n",
    "We may be interested in fitting a power curve to data representing 'normal' turbine operation. In other words, we want to flag all anomalous data or data represenatative of underperformance. To do this, the 'bin_filter' function is useful. It works by binning the data by a specified variable, bin width, and start and end points. The criteria for flagging is based on some measure (scalar or standard deviation) from the mean or median of the bin center. \n",
    "\n",
    "As an example, let's bin on power in 100 kW increments, starting from 25.0 kW but stopping at 90% of peak power (i.e. we don't want to flag all the data at peak power and high wind speed. Let's use a scalar threshold of 1.5 m/s from the median for each bin. Let's also consider data on both sides of the curve by setting the 'direction' parameter to 'all'"
   ]
  },
  {
   "cell_type": "code",
   "execution_count": 24,
   "metadata": {},
   "outputs": [
    {
     "data": {
      "image/png": "[encoded data removed]",
      "text/plain": [
       "<Figure size 432x288 with 1 Axes>"
      ]
     },
     "metadata": {
      "needs_background": "light"
     },
     "output_type": "display_data"
    }
   ],
   "source": [
    "max_bin = 0.90*power_kw_filt1.max()\n",
    "bin_outliers = filters.bin_filter(power_kw_filt1, windspeed_filt1, 100, 1.5, 'median', 20., max_bin, 'scalar', 'all')\n",
    "plot_flagged_pc(windspeed_filt1, power_kw_filt1, bin_outliers, 0.5)"
   ]
  },
  {
   "cell_type": "markdown",
   "metadata": {},
   "source": [
    "As seen above, one call for the bin filter has done a decent job of cleaning up the power curve to represent 'normal' operation, without excessive removal of data points. There are a few points at peak power but low wind speed that weren't flagged, however. Let catch those, and then remove those as well as the flagged data above, and plot our 'clean' power curve "
   ]
  },
  {
   "cell_type": "code",
   "execution_count": 25,
   "metadata": {},
   "outputs": [],
   "source": [
    "windspeed_filt2 = windspeed_filt1[~bin_outliers]\n",
    "power_kw_filt2 = power_kw_filt1[~bin_outliers]"
   ]
  },
  {
   "cell_type": "markdown",
   "metadata": {},
   "source": [
    "#### Unresponsive Filter\n",
    "\n",
    "As a final filtering demonstration, we can look for an unrespsonsive sensor (i.e. repeating measurements). In this case, let's look for 3 or more repeating wind speed measurements:"
   ]
  },
  {
   "cell_type": "code",
   "execution_count": 26,
   "metadata": {},
   "outputs": [
    {
     "data": {
      "text/plain": [
       "time\n",
       "2014-01-10 14:40:00    0E-9\n",
       "2014-01-10 14:50:00    0E-9\n",
       "2014-01-10 15:00:00    0E-9\n",
       "2014-01-10 15:10:00    0E-9\n",
       "Name: wmet_wdspd_avg, dtype: object"
      ]
     },
     "execution_count": 26,
     "metadata": {},
     "output_type": "execute_result"
    }
   ],
   "source": [
    "frozen = filters.unresponsive_flag(windspeed_filt2, 3)\n",
    "windspeed_filt2[frozen]"
   ]
  },
  {
   "cell_type": "markdown",
   "metadata": {},
   "source": [
    "We actually found a lot, so let's remove these data as well before moving on to power curve fitting.\n",
    "\n",
    "Note that many of the unresponsive sensor values identified above are likely caused by the discretization of the data to only two decimal places. However, the goal is to illustrate the filtering process."
   ]
  },
  {
   "cell_type": "code",
   "execution_count": 27,
   "metadata": {},
   "outputs": [],
   "source": [
    "windspeed_final = windspeed_filt2[~frozen]\n",
    "power_kw_final = power_kw_filt2[~frozen]"
   ]
  },
  {
   "cell_type": "markdown",
   "metadata": {},
   "source": [
    "##### Power curve fitting\n",
    "\n",
    "We will now consider three different models for fitting a power curve to the SCADA data."
   ]
  },
  {
   "cell_type": "code",
   "execution_count": 28,
   "metadata": {},
   "outputs": [
    {
     "ename": "RuntimeError",
     "evalue": "The map-like callable must be of the form f(func, iterable), returning a sequence of numbers the same length as 'iterable'",
     "output_type": "error",
     "traceback": [
      "\u001b[0;31m---------------------------------------------------------------------------\u001b[0m",
      "\u001b[0;31mTypeError\u001b[0m                                 Traceback (most recent call last)",
      "\u001b[0;32m/opt/conda/lib/python3.8/site-packages/scipy/optimize/_differentialevolution.py\u001b[0m in \u001b[0;36m_calculate_population_energies\u001b[0;34m(self, population)\u001b[0m\n\u001b[1;32m    872\u001b[0m         \u001b[0;32mtry\u001b[0m\u001b[0;34m:\u001b[0m\u001b[0;34m\u001b[0m\u001b[0;34m\u001b[0m\u001b[0m\n\u001b[0;32m--> 873\u001b[0;31m             calc_energies = list(self._mapwrapper(self.func,\n\u001b[0m\u001b[1;32m    874\u001b[0m                                                   parameters_pop[0:nfevs]))\n",
      "\u001b[0;32m/opt/conda/lib/python3.8/site-packages/scipy/optimize/_differentialevolution.py\u001b[0m in \u001b[0;36m__call__\u001b[0;34m(self, x)\u001b[0m\n\u001b[1;32m   1254\u001b[0m     \u001b[0;32mdef\u001b[0m \u001b[0m__call__\u001b[0m\u001b[0;34m(\u001b[0m\u001b[0mself\u001b[0m\u001b[0;34m,\u001b[0m \u001b[0mx\u001b[0m\u001b[0;34m)\u001b[0m\u001b[0;34m:\u001b[0m\u001b[0;34m\u001b[0m\u001b[0;34m\u001b[0m\u001b[0m\n\u001b[0;32m-> 1255\u001b[0;31m         \u001b[0;32mreturn\u001b[0m \u001b[0mself\u001b[0m\u001b[0;34m.\u001b[0m\u001b[0mf\u001b[0m\u001b[0;34m(\u001b[0m\u001b[0mx\u001b[0m\u001b[0;34m,\u001b[0m \u001b[0;34m*\u001b[0m\u001b[0mself\u001b[0m\u001b[0;34m.\u001b[0m\u001b[0margs\u001b[0m\u001b[0;34m)\u001b[0m\u001b[0;34m\u001b[0m\u001b[0;34m\u001b[0m\u001b[0m\n\u001b[0m\u001b[1;32m   1256\u001b[0m \u001b[0;34m\u001b[0m\u001b[0m\n",
      "\u001b[0;32m~/OpenOA/operational_analysis/toolkits/power_curve/parametric_optimize.py\u001b[0m in \u001b[0;36mf\u001b[0;34m(opt_params)\u001b[0m\n\u001b[1;32m     35\u001b[0m     \u001b[0;32mdef\u001b[0m \u001b[0mf\u001b[0m\u001b[0;34m(\u001b[0m\u001b[0mopt_params\u001b[0m\u001b[0;34m)\u001b[0m\u001b[0;34m:\u001b[0m\u001b[0;34m\u001b[0m\u001b[0;34m\u001b[0m\u001b[0m\n\u001b[0;32m---> 36\u001b[0;31m         \u001b[0;32mreturn\u001b[0m \u001b[0mcost_function\u001b[0m\u001b[0;34m(\u001b[0m\u001b[0mcurve\u001b[0m\u001b[0;34m(\u001b[0m\u001b[0mx\u001b[0m\u001b[0;34m,\u001b[0m \u001b[0;34m*\u001b[0m\u001b[0mopt_params\u001b[0m\u001b[0;34m)\u001b[0m\u001b[0;34m,\u001b[0m \u001b[0my\u001b[0m\u001b[0;34m)\u001b[0m\u001b[0;34m\u001b[0m\u001b[0;34m\u001b[0m\u001b[0m\n\u001b[0m\u001b[1;32m     37\u001b[0m \u001b[0;34m\u001b[0m\u001b[0m\n",
      "\u001b[0;32m~/OpenOA/operational_analysis/toolkits/power_curve/parametric_forms.py\u001b[0m in \u001b[0;36mlogistic5param\u001b[0;34m(x, a, b, c, d, g)\u001b[0m\n\u001b[1;32m     50\u001b[0m     \u001b[0;31m# Apply power curve definition to point within domain\u001b[0m\u001b[0;34m\u001b[0m\u001b[0;34m\u001b[0m\u001b[0;34m\u001b[0m\u001b[0m\n\u001b[0;32m---> 51\u001b[0;31m     \u001b[0mres\u001b[0m\u001b[0;34m[\u001b[0m\u001b[0mdom\u001b[0m\u001b[0;34m]\u001b[0m \u001b[0;34m=\u001b[0m \u001b[0m_power_curve\u001b[0m\u001b[0;34m(\u001b[0m\u001b[0mx\u001b[0m\u001b[0;34m[\u001b[0m\u001b[0mdom\u001b[0m\u001b[0;34m]\u001b[0m\u001b[0;34m,\u001b[0m \u001b[0ma\u001b[0m\u001b[0;34m,\u001b[0m \u001b[0mb\u001b[0m\u001b[0;34m,\u001b[0m \u001b[0mc\u001b[0m\u001b[0;34m,\u001b[0m \u001b[0md\u001b[0m\u001b[0;34m,\u001b[0m \u001b[0mg\u001b[0m\u001b[0;34m)\u001b[0m\u001b[0;34m\u001b[0m\u001b[0;34m\u001b[0m\u001b[0m\n\u001b[0m\u001b[1;32m     52\u001b[0m \u001b[0;34m\u001b[0m\u001b[0m\n",
      "\u001b[0;32m~/OpenOA/operational_analysis/toolkits/power_curve/parametric_forms.py\u001b[0m in \u001b[0;36m_power_curve\u001b[0;34m(x, a, b, c, d, g)\u001b[0m\n\u001b[1;32m     21\u001b[0m     \u001b[0;34m\"\"\"Applies the power curve function at each point in x.\"\"\"\u001b[0m\u001b[0;34m\u001b[0m\u001b[0;34m\u001b[0m\u001b[0m\n\u001b[0;32m---> 22\u001b[0;31m     \u001b[0;32mreturn\u001b[0m \u001b[0;34m[\u001b[0m\u001b[0md\u001b[0m \u001b[0;34m+\u001b[0m \u001b[0;34m(\u001b[0m\u001b[0ma\u001b[0m \u001b[0;34m-\u001b[0m \u001b[0md\u001b[0m\u001b[0;34m)\u001b[0m \u001b[0;34m/\u001b[0m \u001b[0;34m(\u001b[0m\u001b[0;36m1\u001b[0m \u001b[0;34m+\u001b[0m \u001b[0;34m(\u001b[0m\u001b[0mxx\u001b[0m \u001b[0;34m/\u001b[0m \u001b[0mc\u001b[0m\u001b[0;34m)\u001b[0m \u001b[0;34m**\u001b[0m \u001b[0mb\u001b[0m\u001b[0;34m)\u001b[0m \u001b[0;34m**\u001b[0m \u001b[0mg\u001b[0m \u001b[0;32mfor\u001b[0m \u001b[0mxx\u001b[0m \u001b[0;32min\u001b[0m \u001b[0mx\u001b[0m\u001b[0;34m]\u001b[0m\u001b[0;34m\u001b[0m\u001b[0;34m\u001b[0m\u001b[0m\n\u001b[0m\u001b[1;32m     23\u001b[0m \u001b[0;34m\u001b[0m\u001b[0m\n",
      "\u001b[0;32m~/OpenOA/operational_analysis/toolkits/power_curve/parametric_forms.py\u001b[0m in \u001b[0;36m<listcomp>\u001b[0;34m(.0)\u001b[0m\n\u001b[1;32m     21\u001b[0m     \u001b[0;34m\"\"\"Applies the power curve function at each point in x.\"\"\"\u001b[0m\u001b[0;34m\u001b[0m\u001b[0;34m\u001b[0m\u001b[0m\n\u001b[0;32m---> 22\u001b[0;31m     \u001b[0;32mreturn\u001b[0m \u001b[0;34m[\u001b[0m\u001b[0md\u001b[0m \u001b[0;34m+\u001b[0m \u001b[0;34m(\u001b[0m\u001b[0ma\u001b[0m \u001b[0;34m-\u001b[0m \u001b[0md\u001b[0m\u001b[0;34m)\u001b[0m \u001b[0;34m/\u001b[0m \u001b[0;34m(\u001b[0m\u001b[0;36m1\u001b[0m \u001b[0;34m+\u001b[0m \u001b[0;34m(\u001b[0m\u001b[0mxx\u001b[0m \u001b[0;34m/\u001b[0m \u001b[0mc\u001b[0m\u001b[0;34m)\u001b[0m \u001b[0;34m**\u001b[0m \u001b[0mb\u001b[0m\u001b[0;34m)\u001b[0m \u001b[0;34m**\u001b[0m \u001b[0mg\u001b[0m \u001b[0;32mfor\u001b[0m \u001b[0mxx\u001b[0m \u001b[0;32min\u001b[0m \u001b[0mx\u001b[0m\u001b[0;34m]\u001b[0m\u001b[0;34m\u001b[0m\u001b[0;34m\u001b[0m\u001b[0m\n\u001b[0m\u001b[1;32m     23\u001b[0m \u001b[0;34m\u001b[0m\u001b[0m\n",
      "\u001b[0;31mTypeError\u001b[0m: unsupported operand type(s) for /: 'decimal.Decimal' and 'float'",
      "\nThe above exception was the direct cause of the following exception:\n",
      "\u001b[0;31mRuntimeError\u001b[0m                              Traceback (most recent call last)",
      "\u001b[0;32m<ipython-input-28-97eaee5e3503>\u001b[0m in \u001b[0;36m<module>\u001b[0;34m\u001b[0m\n\u001b[1;32m      1\u001b[0m \u001b[0;31m# Fit the power curves\u001b[0m\u001b[0;34m\u001b[0m\u001b[0;34m\u001b[0m\u001b[0;34m\u001b[0m\u001b[0m\n\u001b[1;32m      2\u001b[0m \u001b[0miec_curve\u001b[0m \u001b[0;34m=\u001b[0m \u001b[0mpower_curve\u001b[0m\u001b[0;34m.\u001b[0m\u001b[0mIEC\u001b[0m\u001b[0;34m(\u001b[0m\u001b[0mwindspeed_final\u001b[0m\u001b[0;34m,\u001b[0m \u001b[0mpower_kw_final\u001b[0m\u001b[0;34m)\u001b[0m\u001b[0;34m\u001b[0m\u001b[0;34m\u001b[0m\u001b[0m\n\u001b[0;32m----> 3\u001b[0;31m \u001b[0ml5p_curve\u001b[0m \u001b[0;34m=\u001b[0m \u001b[0mpower_curve\u001b[0m\u001b[0;34m.\u001b[0m\u001b[0mlogistic_5_parametric\u001b[0m\u001b[0;34m(\u001b[0m\u001b[0mwindspeed_final\u001b[0m\u001b[0;34m,\u001b[0m \u001b[0mpower_kw_final\u001b[0m\u001b[0;34m)\u001b[0m\u001b[0;34m\u001b[0m\u001b[0;34m\u001b[0m\u001b[0m\n\u001b[0m\u001b[1;32m      4\u001b[0m \u001b[0mspline_curve\u001b[0m \u001b[0;34m=\u001b[0m \u001b[0mpower_curve\u001b[0m\u001b[0;34m.\u001b[0m\u001b[0mgam\u001b[0m\u001b[0;34m(\u001b[0m\u001b[0mwindspeed_final\u001b[0m\u001b[0;34m,\u001b[0m \u001b[0mpower_kw_final\u001b[0m\u001b[0;34m,\u001b[0m \u001b[0mn_splines\u001b[0m \u001b[0;34m=\u001b[0m \u001b[0;36m20\u001b[0m\u001b[0;34m)\u001b[0m\u001b[0;34m\u001b[0m\u001b[0;34m\u001b[0m\u001b[0m\n",
      "\u001b[0;32m~/OpenOA/operational_analysis/toolkits/power_curve/functions.py\u001b[0m in \u001b[0;36mlogistic_5_parametric\u001b[0;34m(windspeed_column, power_column)\u001b[0m\n\u001b[1;32m     94\u001b[0m \u001b[0;34m\u001b[0m\u001b[0m\n\u001b[1;32m     95\u001b[0m     \"\"\"\n\u001b[0;32m---> 96\u001b[0;31m     return fit_parametric_power_curve(\n\u001b[0m\u001b[1;32m     97\u001b[0m         \u001b[0mwindspeed_column\u001b[0m\u001b[0;34m,\u001b[0m\u001b[0;34m\u001b[0m\u001b[0;34m\u001b[0m\u001b[0m\n\u001b[1;32m     98\u001b[0m         \u001b[0mpower_column\u001b[0m\u001b[0;34m,\u001b[0m\u001b[0;34m\u001b[0m\u001b[0;34m\u001b[0m\u001b[0m\n",
      "\u001b[0;32m~/OpenOA/operational_analysis/toolkits/power_curve/parametric_optimize.py\u001b[0m in \u001b[0;36mfit_parametric_power_curve\u001b[0;34m(x, y, curve, optimization_algorithm, cost_function, bounds, return_params)\u001b[0m\n\u001b[1;32m     37\u001b[0m \u001b[0;34m\u001b[0m\u001b[0m\n\u001b[1;32m     38\u001b[0m     \u001b[0;31m# Run the optimization algorithm\u001b[0m\u001b[0;34m\u001b[0m\u001b[0;34m\u001b[0m\u001b[0;34m\u001b[0m\u001b[0m\n\u001b[0;32m---> 39\u001b[0;31m     \u001b[0mfit\u001b[0m \u001b[0;34m=\u001b[0m \u001b[0moptimization_algorithm\u001b[0m\u001b[0;34m(\u001b[0m\u001b[0mf\u001b[0m\u001b[0;34m,\u001b[0m \u001b[0mbounds\u001b[0m\u001b[0;34m)\u001b[0m\u001b[0;34m\u001b[0m\u001b[0;34m\u001b[0m\u001b[0m\n\u001b[0m\u001b[1;32m     40\u001b[0m \u001b[0;34m\u001b[0m\u001b[0m\n\u001b[1;32m     41\u001b[0m     \u001b[0;31m# Create closure of curve function with fit params\u001b[0m\u001b[0;34m\u001b[0m\u001b[0;34m\u001b[0m\u001b[0;34m\u001b[0m\u001b[0m\n",
      "\u001b[0;32m/opt/conda/lib/python3.8/site-packages/scipy/optimize/_differentialevolution.py\u001b[0m in \u001b[0;36mdifferential_evolution\u001b[0;34m(func, bounds, args, strategy, maxiter, popsize, tol, mutation, recombination, seed, callback, disp, polish, init, atol, updating, workers, constraints)\u001b[0m\n\u001b[1;32m    306\u001b[0m                                      \u001b[0mworkers\u001b[0m\u001b[0;34m=\u001b[0m\u001b[0mworkers\u001b[0m\u001b[0;34m,\u001b[0m\u001b[0;34m\u001b[0m\u001b[0;34m\u001b[0m\u001b[0m\n\u001b[1;32m    307\u001b[0m                                      constraints=constraints) as solver:\n\u001b[0;32m--> 308\u001b[0;31m         \u001b[0mret\u001b[0m \u001b[0;34m=\u001b[0m \u001b[0msolver\u001b[0m\u001b[0;34m.\u001b[0m\u001b[0msolve\u001b[0m\u001b[0;34m(\u001b[0m\u001b[0;34m)\u001b[0m\u001b[0;34m\u001b[0m\u001b[0;34m\u001b[0m\u001b[0m\n\u001b[0m\u001b[1;32m    309\u001b[0m \u001b[0;34m\u001b[0m\u001b[0m\n\u001b[1;32m    310\u001b[0m     \u001b[0;32mreturn\u001b[0m \u001b[0mret\u001b[0m\u001b[0;34m\u001b[0m\u001b[0;34m\u001b[0m\u001b[0m\n",
      "\u001b[0;32m/opt/conda/lib/python3.8/site-packages/scipy/optimize/_differentialevolution.py\u001b[0m in \u001b[0;36msolve\u001b[0;34m(self)\u001b[0m\n\u001b[1;32m    748\u001b[0m             \u001b[0;31m# only work out population energies for feasible solutions\u001b[0m\u001b[0;34m\u001b[0m\u001b[0;34m\u001b[0m\u001b[0;34m\u001b[0m\u001b[0m\n\u001b[1;32m    749\u001b[0m             self.population_energies[self.feasible] = (\n\u001b[0;32m--> 750\u001b[0;31m                 self._calculate_population_energies(\n\u001b[0m\u001b[1;32m    751\u001b[0m                     self.population[self.feasible]))\n\u001b[1;32m    752\u001b[0m \u001b[0;34m\u001b[0m\u001b[0m\n",
      "\u001b[0;32m/opt/conda/lib/python3.8/site-packages/scipy/optimize/_differentialevolution.py\u001b[0m in \u001b[0;36m_calculate_population_energies\u001b[0;34m(self, population)\u001b[0m\n\u001b[1;32m    877\u001b[0m             \u001b[0;31m# wrong number of arguments for _mapwrapper\u001b[0m\u001b[0;34m\u001b[0m\u001b[0;34m\u001b[0m\u001b[0;34m\u001b[0m\u001b[0m\n\u001b[1;32m    878\u001b[0m             \u001b[0;31m# or wrong length returned from the mapper\u001b[0m\u001b[0;34m\u001b[0m\u001b[0;34m\u001b[0m\u001b[0;34m\u001b[0m\u001b[0m\n\u001b[0;32m--> 879\u001b[0;31m             raise RuntimeError(\n\u001b[0m\u001b[1;32m    880\u001b[0m                 \u001b[0;34m\"The map-like callable must be of the form f(func, iterable), \"\u001b[0m\u001b[0;34m\u001b[0m\u001b[0;34m\u001b[0m\u001b[0m\n\u001b[1;32m    881\u001b[0m                 \u001b[0;34m\"returning a sequence of numbers the same length as 'iterable'\"\u001b[0m\u001b[0;34m\u001b[0m\u001b[0;34m\u001b[0m\u001b[0m\n",
      "\u001b[0;31mRuntimeError\u001b[0m: The map-like callable must be of the form f(func, iterable), returning a sequence of numbers the same length as 'iterable'"
     ]
    }
   ],
   "source": [
    "# Fit the power curves\n",
    "iec_curve = power_curve.IEC(windspeed_final, power_kw_final)\n",
    "l5p_curve = power_curve.logistic_5_parametric(windspeed_final, power_kw_final)\n",
    "spline_curve = power_curve.gam(windspeed_final, power_kw_final, n_splines = 20)"
   ]
  },
  {
   "cell_type": "code",
   "execution_count": null,
   "metadata": {},
   "outputs": [],
   "source": [
    "# Plot the results\n",
    "x = np.linspace(0,20,100)\n",
    "plt.figure(figsize = (10,6))\n",
    "plt.scatter(windspeed_final, power_kw_final, alpha=0.5, s = 1, c = 'gray')\n",
    "plt.plot(x, iec_curve(x), color=\"red\", label = 'IEC', linewidth = 3)\n",
    "plt.plot(x, spline_curve(x), color=\"C1\", label = 'Spline', linewidth = 3)\n",
    "plt.plot(x, l5p_curve(x), color=\"C2\", label = 'L5P', linewidth = 3)\n",
    "plt.xlabel('Wind speed (m/s)')\n",
    "plt.ylabel('Power (kW)')\n",
    "plt.legend()\n",
    "plt.show()"
   ]
  },
  {
   "cell_type": "markdown",
   "metadata": {},
   "source": [
    "The above plot shows that the IEC method accurately captures the power curve, although it results in a 'choppy' fit, while the L5P model (constrained by its parametric form) deviates from the knee of the power curve through peak production. The spline fit tends to fit the best."
   ]
  }
 ],
 "metadata": {
  "kernelspec": {
   "display_name": "Python 3 (ipykernel)",
   "language": "python",
   "name": "python3"
  },
  "language_info": {
   "codemirror_mode": {
    "name": "ipython",
    "version": 3
   },
   "file_extension": ".py",
   "mimetype": "text/x-python",
   "name": "python",
   "nbconvert_exporter": "python",
   "pygments_lexer": "ipython3",
   "version": "3.9.7"
  },
  "toc": {
   "base_numbering": 1,
   "nav_menu": {},
   "number_sections": true,
   "sideBar": true,
   "skip_h1_title": false,
   "title_cell": "Table of Contents",
   "title_sidebar": "Contents",
   "toc_cell": false,
   "toc_position": {},
   "toc_section_display": true,
   "toc_window_display": false
  }
 },
 "nbformat": 4,
 "nbformat_minor": 4
}
